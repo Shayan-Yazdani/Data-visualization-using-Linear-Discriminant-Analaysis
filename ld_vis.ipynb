{
 "cells": [
  {
   "cell_type": "markdown",
   "id": "piano-interpretation",
   "metadata": {},
   "source": [
    "# Feature visualization using Linear Discriminant  Analaysis\n",
    "\n",
    "Linear Discriminant  Analysis is a machine learning method. This method projects data into 1D line and tries to classify the data based on the provided labels. Here, we want to use linear discriminant projection to visualize overlap between classes.\n",
    "\n",
    "\n",
    "For the sake of illustration, we use iris dataset. "
   ]
  },
  {
   "cell_type": "code",
   "execution_count": 46,
   "id": "acceptable-brass",
   "metadata": {
    "scrolled": true
   },
   "outputs": [],
   "source": [
    "import numpy as np\n",
    "import matplotlib.pyplot as plt\n",
    "import seaborn as sns\n",
    "from sklearn import datasets\n",
    "\n",
    "iris = datasets.load_iris()\n",
    "X = iris.data\n",
    "y = iris.target\n",
    "\n",
    "Setosa=X[0:50]\n",
    "Versicolor=X[50:100]\n",
    "\n"
   ]
  },
  {
   "cell_type": "markdown",
   "id": "conceptual-religion",
   "metadata": {},
   "source": [
    "First we calculate within class variance.\n",
    "\n",
    "Within class variance=\\\\(S_1^2+S_2^2\\\\)"
   ]
  },
  {
   "cell_type": "code",
   "execution_count": 47,
   "id": "little-slide",
   "metadata": {},
   "outputs": [],
   "source": [
    "sw = np.cov(np.transpose(Setosa))+np.cov(np.transpose(Versicolor))"
   ]
  },
  {
   "cell_type": "markdown",
   "id": "neural-protein",
   "metadata": {},
   "source": [
    "Within class variance=\\\\(m_1^2-m_2^2\\\\)"
   ]
  },
  {
   "cell_type": "code",
   "execution_count": 48,
   "id": "creative-paper",
   "metadata": {},
   "outputs": [],
   "source": [
    "wv=np.transpose((np.mean(Setosa,axis=0) - np.mean(Versicolor,axis=0)))"
   ]
  },
  {
   "cell_type": "markdown",
   "id": "honey-material",
   "metadata": {},
   "source": [
    "Calculating Weigth Matrix\n",
    "\n",
    "\\\\(W=\\frac{(m_2-m_1)}{(S_1^2+S_2^2)}\\\\)"
   ]
  },
  {
   "cell_type": "code",
   "execution_count": 49,
   "id": "tutorial-greenhouse",
   "metadata": {},
   "outputs": [],
   "source": [
    "wt = np.dot(np.linalg.inv(sw),np.reshape(wv,(len(wv),1)))"
   ]
  },
  {
   "cell_type": "markdown",
   "id": "hazardous-tactics",
   "metadata": {},
   "source": [
    "Projection of data to 1D using weight matrix:"
   ]
  },
  {
   "cell_type": "code",
   "execution_count": 51,
   "id": "different-approval",
   "metadata": {},
   "outputs": [
    {
     "data": {
      "text/plain": [
       "<matplotlib.legend.Legend at 0x21474a2e888>"
      ]
     },
     "execution_count": 51,
     "metadata": {},
     "output_type": "execute_result"
    },
    {
     "data": {
      "image/png": "[encoded data removed]",
      "text/plain": [
       "<Figure size 432x288 with 1 Axes>"
      ]
     },
     "metadata": {
      "needs_background": "light"
     },
     "output_type": "display_data"
    }
   ],
   "source": [
    "LD1=np.dot(np.transpose(wt),np.transpose(Setosa))\n",
    "LD2=np.dot(np.transpose(wt),np.transpose(Versicolor))\n",
    "H1=sns.distplot(LD1,bins=20, hist=False)\n",
    "H2=sns.distplot(LD2,bins=20, hist=False)\n",
    "plt.legend(['Setosa', 'Versicolor'])"
   ]
  },
  {
   "cell_type": "code",
   "execution_count": null,
   "id": "baking-rebecca",
   "metadata": {},
   "outputs": [],
   "source": []
  }
 ],
 "metadata": {
  "kernelspec": {
   "display_name": "Python 3",
   "language": "python",
   "name": "python3"
  },
  "language_info": {
   "codemirror_mode": {
    "name": "ipython",
    "version": 3
   },
   "file_extension": ".py",
   "mimetype": "text/x-python",
   "name": "python",
   "nbconvert_exporter": "python",
   "pygments_lexer": "ipython3",
   "version": "3.7.9"
  }
 },
 "nbformat": 4,
 "nbformat_minor": 5
}
